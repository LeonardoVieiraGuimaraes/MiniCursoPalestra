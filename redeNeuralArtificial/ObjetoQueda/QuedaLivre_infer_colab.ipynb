{
 "cells": [
  {
   "cell_type": "markdown",
   "id": "f26898d7",
   "metadata": {},
   "source": [
    "# Inferência — Queda Livre (Colab)\n",
    "\n",
    "Notebook para carregar o modelo treinado (`model/fall_model`) gerado pelo `QuedaLivre_colab.ipynb` e fazer previsões a partir de tempos (t)."
   ]
  },
  {
   "cell_type": "code",
   "execution_count": null,
   "id": "3a6e9b37",
   "metadata": {},
   "outputs": [],
   "source": [
    "# Célula 1 — montar Drive no Colab (opcional)\n",
    "IN_COLAB = False\n",
    "try:\n",
    "    import google.colab\n",
    "    IN_COLAB = True\n",
    "except Exception:\n",
    "    IN_COLAB = False\n",
    "\n",
    "if IN_COLAB:\n",
    "    from google.colab import drive\n",
    "    drive.mount('/content/drive')\n",
    "    print('Drive montado. Copie a pasta model/ para /content/drive/MyDrive/... se quiser persistir o modelo.')\n",
    "else:\n",
    "    print('Executando localmente — verifique se a pasta model/ existe.')"
   ]
  },
  {
   "cell_type": "code",
   "execution_count": null,
   "id": "43940666",
   "metadata": {},
   "outputs": [],
   "source": [
    "# Célula 2 — carregar modelo e scalers\n",
    "import os\n",
    "import numpy as np\n",
    "from tensorflow.keras.models import load_model\n",
    "\n",
    "MODEL_PATH = 'model/fall_model'\n",
    "SCALER_PATH = 'model/scaler.npz'\n",
    "\n",
    "if not os.path.exists(MODEL_PATH):\n",
    "    print('Modelo não encontrado em', MODEL_PATH, '\\nSe você estiver no Colab monte o Drive e copie a pasta model/ para este runtime, ou execute o notebook de treino.')\n",
    "else:\n",
    "    model = load_model(MODEL_PATH)\n",
    "    sc = np.load(SCALER_PATH)\n",
    "    t_mean, t_std = sc['t_mean'], sc['t_std']\n",
    "    s_mean, s_std = sc['s_mean'], sc['s_std']\n",
    "    print('Modelo e scalers carregados com sucesso.')"
   ]
  },
  {
   "cell_type": "code",
   "execution_count": null,
   "id": "97d2ce28",
   "metadata": {},
   "outputs": [],
   "source": [
    "# Célula 3 — função de predição interativa\n",
    "import numpy as np\n",
    "def predict_time(t_seconds):\n",
    "    t_arr = np.array([[float(t_seconds)]], dtype=np.float32)\n",
    "    t_n = (t_arr - t_mean) / t_std\n",
    "    s_n = model.predict(t_n)\n",
    "    s = s_n * s_std + s_mean\n",
    "    return float(s[0,0])\n",
    "\n",
    "# exemplo\n",
    "if 'model' in globals():\n",
    "    for t in [0.5, 1.0, 2.0]:\n",
    "        print(t, 's ->', predict_time(t))\n",
    "else:\n",
    "    print('Modelo não carregado — execute a célula de carregamento primeiro.')"
   ]
  },
  {
   "cell_type": "code",
   "execution_count": null,
   "id": "9dfbf600",
   "metadata": {},
   "outputs": [],
   "source": [
    "# Célula 4 — inferência em lote via upload CSV (coluna com tempos em segundos)\n",
    "try:\n",
    "    from google.colab import files\n",
    "    uploaded = files.upload()\n",
    "    for name in uploaded:\n",
    "        import io\n",
    "        import pandas as pd\n",
    "        df = pd.read_csv(io.BytesIO(uploaded[name]))\n",
    "        if df.shape[1] == 1:\n",
    "            times = df.iloc[:,0].values\n",
    "        elif 't' in df.columns:\n",
    "            times = df['t'].values\n",
    "        else:\n",
    "            raise ValueError('CSV deve ter coluna única com tempos ou coluna chamada t')\n",
    "        preds = [predict_time(float(x)) for x in times]\n",
    "        out_df = pd.DataFrame({'t': times, 's_pred': preds})\n",
    "        out_name = 'predictions_' + name\n",
    "        out_df.to_csv(out_name, index=False)\n",
    "        files.download(out_name)\n",
    "except Exception as e:\n",
    "    print('Upload em lote não disponível ou falhou:', e)"
   ]
  },
  {
   "cell_type": "markdown",
   "id": "ffeeb89f",
   "metadata": {},
   "source": [
    "---\n",
    "### Dicas\n",
    "- Se quiser salvar o resultado no Drive, copie o arquivo `predictions_*.csv` para uma pasta dentro de `/content/drive/MyDrive/`.\n",
    "- Para adaptar o notebook para estimar tempo a partir de distância, carregue um modelo treinado nessa tarefa ou gere um dataset invertido no notebook de treino."
   ]
  }
 ],
 "metadata": {
  "language_info": {
   "name": "python"
  }
 },
 "nbformat": 4,
 "nbformat_minor": 5
}
