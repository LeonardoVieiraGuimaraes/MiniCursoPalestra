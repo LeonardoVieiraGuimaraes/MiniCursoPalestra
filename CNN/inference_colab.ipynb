{
  "cells": [
    {
      "cell_type": "markdown",
      "id": "a68f41a4",
      "metadata": {
        "colab_type": "text",
        "id": "view-in-github"
      },
      "source": [
        "<a href=\"https://colab.research.google.com/github/LeonardoVieiraGuimaraes/MiniCursoPalestra/blob/main/CNN/inference_colab.ipynb\" target=\"_parent\"><img src=\"https://colab.research.google.com/assets/colab-badge.svg\" alt=\"Open In Colab\"/></a>"
      ]
    },
    {
      "cell_type": "markdown",
      "id": "2426ba6a",
      "metadata": {},
      "source": [
        "# Inference com modelo treinado (Colab)\n",
        "Este notebook carrega um modelo treinado (salvo no runtime ou no Google Drive) e faz inferência em uma imagem fornecida pelo usuário. Funciona no Google Colab ou em um Jupyter local.\n",
        "\n",
        "Fluxo:\n",
        "1. Montar Google Drive (opcional, se o modelo estiver salvo lá).\n",
        "2. Carregar o modelo salvo (procura em locais comuns).\n",
        "3. Fazer upload de uma imagem ou usar uma URL.\n",
        "4. Pré-processar e prever."
      ]
    },
    {
      "cell_type": "markdown",
      "id": "b90ed1bc",
      "metadata": {},
      "source": [
        "## Observações\n",
        "- Este notebook assume que o modelo foi salvo num dos caminhos: `/content/drive/MyDrive/simple_cnn_mnist.h5` (Drive), `simple_cnn_mnist.h5` ou `best_model.h5` (runtime).\n",
        "- O modelo espera imagens 28x28 em escala de cinza, normalizadas em [0,1]. Se fornecer imagens coloridas, o notebook fará a conversão."
      ]
    },
    {
      "cell_type": "code",
      "execution_count": null,
      "id": "596b50d1",
      "metadata": {},
      "outputs": [],
      "source": [
        "# Célula 1 — montar Drive se estiver no Colab (opcional)\n",
        "try:\n",
        "    import google.colab\n",
        "    IN_COLAB = True\n",
        "except Exception:\n",
        "    IN_COLAB = False\n",
        "\n",
        "if IN_COLAB:\n",
        "    from google.colab import drive\n",
        "    print('Montando Google Drive em /content/drive ...')\n",
        "    drive.mount('/content/drive')\n",
        "else:\n",
        "    print('Não detectado Colab. Usando ambiente local.')"
      ]
    },
    {
      "cell_type": "code",
      "execution_count": null,
      "id": "176b0b3f",
      "metadata": {},
      "outputs": [],
      "source": [
        "# Célula 2 — localizar e carregar o modelo salvo\n",
        "import os\n",
        "from tensorflow.keras.models import load_model\n",
        "\n",
        "candidate_paths = []\n",
        "candidate_paths.append('/content/drive/MyDrive/simple_cnn_mnist.h5')\n",
        "candidate_paths.append('simple_cnn_mnist.h5')\n",
        "candidate_paths.append('best_model.h5')\n",
        "\n",
        "model_path = None\n",
        "for p in candidate_paths:\n",
        "    if os.path.exists(p):\n",
        "        model_path = p\n",
        "        break\n",
        "\n",
        "if model_path is None:\n",
        "    print('Modelo não encontrado nos caminhos padrão.')\n",
        "    print('Salve o modelo em Drive (MyDrive/simple_cnn_mnist.h5) ou no runtime (simple_cnn_mnist.h5) e reexecute esta célula.')\n",
        "else:\n",
        "    print('Carregando modelo de', model_path)\n",
        "    model = load_model(model_path)\n",
        "    print('Modelo carregado com sucesso.')"
      ]
    },
    {
      "cell_type": "code",
      "execution_count": null,
      "id": "348f9869",
      "metadata": {},
      "outputs": [],
      "source": [
        "# Célula 3 — instalar Pillow em Colab se necessário\n",
        "try:\n",
        "    from PIL import Image\n",
        "except Exception:\n",
        "    if IN_COLAB:\n",
        "        import subprocess, sys\n",
        "        subprocess.check_call([sys.executable, '-m', 'pip', 'install', '-q', 'pillow'])\n",
        "        from PIL import Image\n",
        "    else:\n",
        "        raise\n",
        "\n",
        "from io import BytesIO\n",
        "import numpy as np\n",
        "import matplotlib.pyplot as plt\n",
        "\n",
        "print('Pillow disponível, carregamento de imagens pronto.')"
      ]
    },
    {
      "cell_type": "markdown",
      "id": "1371aeb7",
      "metadata": {},
      "source": [
        "## Carregar uma imagem\n",
        "Opções:\n",
        "- Fazer upload direto do seu computador (Colab/Jupyter).\n",
        "- Fornecer uma URL de imagem (o notebook baixa a imagem)."
      ]
    },
    {
      "cell_type": "code",
      "execution_count": null,
      "id": "cdc31166",
      "metadata": {},
      "outputs": [],
      "source": [
        "# Célula 4 — fazer upload ou baixar por URL\n",
        "image_path = None\n",
        "\n",
        "# 1) Primeiro tentamos upload via widget (funciona no Colab/Jupyter)\n",
        "try:\n",
        "    from google.colab import files as colab_files\n",
        "    uploaded = colab_files.upload()  # abre diálogo no Colab\n",
        "    if uploaded:\n",
        "        # pega o primeiro arquivo enviado\n",
        "        image_path = list(uploaded.keys())[0]\n",
        "        print('Arquivo enviado:', image_path)\n",
        "except Exception:\n",
        "    try:\n",
        "        # Em Jupyter local, usar IPython widgets alternativa\n",
        "        from IPython.display import display\n",
        "        import ipywidgets as widgets\n",
        "        uploader = widgets.FileUpload(accept='image/*', multiple=False)\n",
        "        display(uploader)\n",
        "        print('Use o widget acima para selecionar um arquivo e depois execute a célula novamente.')\n",
        "    except Exception:\n",
        "        print('Upload não disponível — forneça uma URL manualmente.')\n",
        "\n",
        "# 2) Se não houver upload, você pode definir uma URL aqui:\n",
        "image_url = ''  # exemplo: 'https://example.com/digit.png'\n",
        "if image_path is None and image_url:\n",
        "    print('Baixando imagem de URL...', image_url)\n",
        "    try:\n",
        "        import requests\n",
        "        resp = requests.get(image_url)\n",
        "        img_bytes = resp.content\n",
        "        with open('input_image.png', 'wb') as f:\n",
        "            f.write(img_bytes)\n",
        "        image_path = 'input_image.png'\n",
        "    except Exception as e:\n",
        "        print('Falha ao baixar a imagem:', e)\n",
        "\n",
        "print('image_path =', image_path)"
      ]
    },
    {
      "cell_type": "code",
      "execution_count": null,
      "id": "74a60adf",
      "metadata": {},
      "outputs": [],
      "source": [
        "# Célula 5 — preprocessing e inferência\n",
        "def get_resample_method():\n",
        "    # Compatibilidade com diferentes versões do Pillow\n",
        "    try:\n",
        "        return Image.Resampling.LANCZOS\n",
        "    except Exception:\n",
        "        try:\n",
        "            return Image.LANCZOS\n",
        "        except Exception:\n",
        "            try:\n",
        "                return Image.ANTIALIAS\n",
        "            except Exception:\n",
        "                return Image.BICUBIC\n",
        "\n",
        "resample_method = get_resample_method()\n",
        "\n",
        "def preprocess_image(path_or_bytes, target_size=(28,28)):\n",
        "    # aceita path (str) ou bytes\n",
        "    if isinstance(path_or_bytes, bytes):\n",
        "        img = Image.open(BytesIO(path_or_bytes))\n",
        "    else:\n",
        "        img = Image.open(path_or_bytes)\n",
        "    # converter para grayscale e redimensionar usando resample_method\n",
        "    img = img.convert('L').resize(target_size, resample_method)\n",
        "    arr = np.array(img).astype('float32') / 255.0\n",
        "    arr = np.expand_dims(arr, axis=-1)  # (28,28,1)\n",
        "    arr = np.expand_dims(arr, axis=0)   # (1,28,28,1)\n",
        "    return arr\n",
        "\n",
        "# Se image_path foi definido (upload), executa previsão\n",
        "if 'image_path' in globals() and image_path:\n",
        "    try:\n",
        "        x = preprocess_image(image_path)\n",
        "        preds = model.predict(x)\n",
        "        label = int(np.argmax(preds, axis=1)[0])\n",
        "        prob = float(np.max(preds))\n",
        "        print(f'Predição: {label}  (prob={prob:.4f})')\n",
        "        # mostrar imagem de entrada\n",
        "        plt.figure(figsize=(3,3))\n",
        "        img = Image.open(image_path).convert('L').resize((28,28), resample_method)\n",
        "        plt.imshow(img, cmap='gray')\n",
        "        plt.title(f'pred: {label} (p={prob:.3f})')\n",
        "        plt.axis('off')\n",
        "        plt.show()\n",
        "    except Exception as e:\n",
        "        print('Erro ao processar ou predizer imagem:', e)\n",
        "else:\n",
        "    print('Nenhuma imagem fornecida. Use upload (Colab) ou defina image_url na célula de upload.')"
      ]
    },
    {
      "cell_type": "markdown",
      "id": "fdaef7f8",
      "metadata": {},
      "source": [
        "---\n",
        "### Notas finais\n",
        "- Se quiser testar com imagens contendo um único dígito manuscrito, a inferência deve funcionar bem. Para imagens maiores ou coloridas, o notebook converte para 28x28 grayscale.\n",
        "- Se o modelo não for encontrado, volte ao notebook de treino e execute a célula de salvamento no Drive ou salve o arquivo em `simple_cnn_mnist.h5`.\n",
        "\n",
        "Se quiser, eu adapto este notebook para reconhecer imagens CIFAR-10 (coloridas) ou para processar múltiplas imagens em lote."
      ]
    }
  ],
  "metadata": {
    "accelerator": "GPU",
    "colab": {
      "gpuType": "T4",
      "include_colab_link": true,
      "provenance": []
    },
    "kernelspec": {
      "display_name": "Python 3",
      "name": "python3"
    },
    "language_info": {
      "name": "python"
    }
  },
  "nbformat": 4,
  "nbformat_minor": 5
}
