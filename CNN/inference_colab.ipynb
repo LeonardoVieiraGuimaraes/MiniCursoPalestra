{
  "cells": [
    {
      "cell_type": "markdown",
      "metadata": {
        "id": "view-in-github",
        "colab_type": "text"
      },
      "source": [
        "<a href=\"https://colab.research.google.com/github/LeonardoVieiraGuimaraes/MiniCursoPalestra/blob/main/CNN/inference_colab.ipynb\" target=\"_parent\"><img src=\"https://colab.research.google.com/assets/colab-badge.svg\" alt=\"Open In Colab\"/></a>"
      ]
    },
    {
      "cell_type": "markdown",
      "id": "4044d112",
      "metadata": {
        "id": "4044d112"
      },
      "source": [
        "# Inference com modelo treinado (Colab)\n",
        "Este notebook carrega um modelo treinado (salvo no runtime ou no Google Drive) e faz inferência em uma imagem fornecida pelo usuário. Funciona no Google Colab ou em um Jupyter local.\n",
        "\n",
        "Fluxo:\n",
        "1. Montar Google Drive (opcional, se o modelo estiver salvo lá).\n",
        "2. Carregar o modelo salvo (procura em locais comuns).\n",
        "3. Fazer upload de uma imagem ou usar uma URL.\n",
        "4. Pré-processar e prever."
      ]
    },
    {
      "cell_type": "markdown",
      "id": "5038bc33",
      "metadata": {
        "id": "5038bc33"
      },
      "source": [
        "## Observações\n",
        "- Este notebook assume que o modelo foi salvo num dos caminhos: `/content/drive/MyDrive/simple_cnn_mnist.h5` (Drive), `simple_cnn_mnist.h5` ou `best_model.h5` (runtime).\n",
        "- O modelo espera imagens 28x28 em escala de cinza, normalizadas em [0,1]. Se fornecer imagens coloridas, o notebook fará a conversão."
      ]
    },
    {
      "cell_type": "code",
      "execution_count": 1,
      "id": "55816c2f",
      "metadata": {
        "id": "55816c2f",
        "outputId": "6d6e1f90-9f71-48c8-d4f5-c8f7eaaac2d9",
        "colab": {
          "base_uri": "https://localhost:8080/"
        }
      },
      "outputs": [
        {
          "output_type": "stream",
          "name": "stdout",
          "text": [
            "Montando Google Drive em /content/drive ...\n",
            "Mounted at /content/drive\n"
          ]
        }
      ],
      "source": [
        "# Célula 1 — montar Drive se estiver no Colab (opcional)\n",
        "try:\n",
        "    import google.colab\n",
        "    IN_COLAB = True\n",
        "except Exception:\n",
        "    IN_COLAB = False\n",
        "\n",
        "if IN_COLAB:\n",
        "    from google.colab import drive\n",
        "    print('Montando Google Drive em /content/drive ...')\n",
        "    drive.mount('/content/drive')\n",
        "else:\n",
        "    print('Não detectado Colab. Usando ambiente local.')"
      ]
    },
    {
      "cell_type": "code",
      "execution_count": 2,
      "id": "6f099d5c",
      "metadata": {
        "id": "6f099d5c",
        "outputId": "838c8ff2-5498-4dca-fa70-710b0dd279fe",
        "colab": {
          "base_uri": "https://localhost:8080/"
        }
      },
      "outputs": [
        {
          "output_type": "stream",
          "name": "stdout",
          "text": [
            "Modelo não encontrado nos caminhos padrão.\n",
            "Salve o modelo em Drive (MyDrive/simple_cnn_mnist.h5) ou no runtime (simple_cnn_mnist.h5) e reexecute esta célula.\n"
          ]
        }
      ],
      "source": [
        "# Célula 2 — localizar e carregar o modelo salvo\n",
        "import os\n",
        "from tensorflow.keras.models import load_model\n",
        "\n",
        "candidate_paths = []\n",
        "# caminhos comuns no Colab/Drive e runtime local\n",
        "candidate_paths.append('/content/drive/MyDrive/simple_cnn_mnist.h5')\n",
        "candidate_paths.append('simple_cnn_mnist.h5')\n",
        "candidate_paths.append('best_model.h5')\n",
        "\n",
        "model_path = None\n",
        "for p in candidate_paths:\n",
        "    if os.path.exists(p):\n",
        "        model_path = p\n",
        "        break\n",
        "\n",
        "if model_path is None:\n",
        "    print('Modelo não encontrado nos caminhos padrão.')\n",
        "    print('Salve o modelo em Drive (MyDrive/simple_cnn_mnist.h5) ou no runtime (simple_cnn_mnist.h5) e reexecute esta célula.')\n",
        "else:\n",
        "    print('Carregando modelo de', model_path)\n",
        "    model = load_model(model_path)\n",
        "    print('Modelo carregado com sucesso.')"
      ]
    },
    {
      "cell_type": "code",
      "execution_count": 3,
      "id": "915a2e18",
      "metadata": {
        "id": "915a2e18",
        "outputId": "4b3c8c9e-fce9-4ccd-a5c3-7ee60b835bcf",
        "colab": {
          "base_uri": "https://localhost:8080/"
        }
      },
      "outputs": [
        {
          "output_type": "stream",
          "name": "stdout",
          "text": [
            "Pillow disponível, carregamento de imagens pronto.\n"
          ]
        }
      ],
      "source": [
        "# Célula 3 — instalar Pillow em Colab se necessário\n",
        "try:\n",
        "    from PIL import Image\n",
        "except Exception:\n",
        "    if IN_COLAB:\n",
        "        import subprocess, sys\n",
        "        subprocess.check_call([sys.executable, '-m', 'pip', 'install', '-q', 'pillow'])\n",
        "        from PIL import Image\n",
        "    else:\n",
        "        raise\n",
        "\n",
        "from io import BytesIO\n",
        "import numpy as np\n",
        "import matplotlib.pyplot as plt\n",
        "\n",
        "print('Pillow disponível, carregamento de imagens pronto.')"
      ]
    },
    {
      "cell_type": "markdown",
      "id": "3f9650a8",
      "metadata": {
        "id": "3f9650a8"
      },
      "source": [
        "## Carregar uma imagem\n",
        "Opções:\n",
        "- Fazer upload direto do seu computador (Colab/Jupyter).\n",
        "- Fornecer uma URL de imagem (o notebook baixa a imagem)."
      ]
    },
    {
      "cell_type": "code",
      "execution_count": null,
      "id": "ed95b540",
      "metadata": {
        "id": "ed95b540",
        "outputId": "afeb4c21-d578-46ac-8c68-79d92c3506b7",
        "colab": {
          "base_uri": "https://localhost:8080/",
          "height": 38
        }
      },
      "outputs": [
        {
          "output_type": "display_data",
          "data": {
            "text/plain": [
              "<IPython.core.display.HTML object>"
            ],
            "text/html": [
              "\n",
              "     <input type=\"file\" id=\"files-9f758815-3fb4-4588-8025-8f18b2d4f49e\" name=\"files[]\" multiple disabled\n",
              "        style=\"border:none\" />\n",
              "     <output id=\"result-9f758815-3fb4-4588-8025-8f18b2d4f49e\">\n",
              "      Upload widget is only available when the cell has been executed in the\n",
              "      current browser session. Please rerun this cell to enable.\n",
              "      </output>\n",
              "      <script>// Copyright 2017 Google LLC\n",
              "//\n",
              "// Licensed under the Apache License, Version 2.0 (the \"License\");\n",
              "// you may not use this file except in compliance with the License.\n",
              "// You may obtain a copy of the License at\n",
              "//\n",
              "//      http://www.apache.org/licenses/LICENSE-2.0\n",
              "//\n",
              "// Unless required by applicable law or agreed to in writing, software\n",
              "// distributed under the License is distributed on an \"AS IS\" BASIS,\n",
              "// WITHOUT WARRANTIES OR CONDITIONS OF ANY KIND, either express or implied.\n",
              "// See the License for the specific language governing permissions and\n",
              "// limitations under the License.\n",
              "\n",
              "/**\n",
              " * @fileoverview Helpers for google.colab Python module.\n",
              " */\n",
              "(function(scope) {\n",
              "function span(text, styleAttributes = {}) {\n",
              "  const element = document.createElement('span');\n",
              "  element.textContent = text;\n",
              "  for (const key of Object.keys(styleAttributes)) {\n",
              "    element.style[key] = styleAttributes[key];\n",
              "  }\n",
              "  return element;\n",
              "}\n",
              "\n",
              "// Max number of bytes which will be uploaded at a time.\n",
              "const MAX_PAYLOAD_SIZE = 100 * 1024;\n",
              "\n",
              "function _uploadFiles(inputId, outputId) {\n",
              "  const steps = uploadFilesStep(inputId, outputId);\n",
              "  const outputElement = document.getElementById(outputId);\n",
              "  // Cache steps on the outputElement to make it available for the next call\n",
              "  // to uploadFilesContinue from Python.\n",
              "  outputElement.steps = steps;\n",
              "\n",
              "  return _uploadFilesContinue(outputId);\n",
              "}\n",
              "\n",
              "// This is roughly an async generator (not supported in the browser yet),\n",
              "// where there are multiple asynchronous steps and the Python side is going\n",
              "// to poll for completion of each step.\n",
              "// This uses a Promise to block the python side on completion of each step,\n",
              "// then passes the result of the previous step as the input to the next step.\n",
              "function _uploadFilesContinue(outputId) {\n",
              "  const outputElement = document.getElementById(outputId);\n",
              "  const steps = outputElement.steps;\n",
              "\n",
              "  const next = steps.next(outputElement.lastPromiseValue);\n",
              "  return Promise.resolve(next.value.promise).then((value) => {\n",
              "    // Cache the last promise value to make it available to the next\n",
              "    // step of the generator.\n",
              "    outputElement.lastPromiseValue = value;\n",
              "    return next.value.response;\n",
              "  });\n",
              "}\n",
              "\n",
              "/**\n",
              " * Generator function which is called between each async step of the upload\n",
              " * process.\n",
              " * @param {string} inputId Element ID of the input file picker element.\n",
              " * @param {string} outputId Element ID of the output display.\n",
              " * @return {!Iterable<!Object>} Iterable of next steps.\n",
              " */\n",
              "function* uploadFilesStep(inputId, outputId) {\n",
              "  const inputElement = document.getElementById(inputId);\n",
              "  inputElement.disabled = false;\n",
              "\n",
              "  const outputElement = document.getElementById(outputId);\n",
              "  outputElement.innerHTML = '';\n",
              "\n",
              "  const pickedPromise = new Promise((resolve) => {\n",
              "    inputElement.addEventListener('change', (e) => {\n",
              "      resolve(e.target.files);\n",
              "    });\n",
              "  });\n",
              "\n",
              "  const cancel = document.createElement('button');\n",
              "  inputElement.parentElement.appendChild(cancel);\n",
              "  cancel.textContent = 'Cancel upload';\n",
              "  const cancelPromise = new Promise((resolve) => {\n",
              "    cancel.onclick = () => {\n",
              "      resolve(null);\n",
              "    };\n",
              "  });\n",
              "\n",
              "  // Wait for the user to pick the files.\n",
              "  const files = yield {\n",
              "    promise: Promise.race([pickedPromise, cancelPromise]),\n",
              "    response: {\n",
              "      action: 'starting',\n",
              "    }\n",
              "  };\n",
              "\n",
              "  cancel.remove();\n",
              "\n",
              "  // Disable the input element since further picks are not allowed.\n",
              "  inputElement.disabled = true;\n",
              "\n",
              "  if (!files) {\n",
              "    return {\n",
              "      response: {\n",
              "        action: 'complete',\n",
              "      }\n",
              "    };\n",
              "  }\n",
              "\n",
              "  for (const file of files) {\n",
              "    const li = document.createElement('li');\n",
              "    li.append(span(file.name, {fontWeight: 'bold'}));\n",
              "    li.append(span(\n",
              "        `(${file.type || 'n/a'}) - ${file.size} bytes, ` +\n",
              "        `last modified: ${\n",
              "            file.lastModifiedDate ? file.lastModifiedDate.toLocaleDateString() :\n",
              "                                    'n/a'} - `));\n",
              "    const percent = span('0% done');\n",
              "    li.appendChild(percent);\n",
              "\n",
              "    outputElement.appendChild(li);\n",
              "\n",
              "    const fileDataPromise = new Promise((resolve) => {\n",
              "      const reader = new FileReader();\n",
              "      reader.onload = (e) => {\n",
              "        resolve(e.target.result);\n",
              "      };\n",
              "      reader.readAsArrayBuffer(file);\n",
              "    });\n",
              "    // Wait for the data to be ready.\n",
              "    let fileData = yield {\n",
              "      promise: fileDataPromise,\n",
              "      response: {\n",
              "        action: 'continue',\n",
              "      }\n",
              "    };\n",
              "\n",
              "    // Use a chunked sending to avoid message size limits. See b/62115660.\n",
              "    let position = 0;\n",
              "    do {\n",
              "      const length = Math.min(fileData.byteLength - position, MAX_PAYLOAD_SIZE);\n",
              "      const chunk = new Uint8Array(fileData, position, length);\n",
              "      position += length;\n",
              "\n",
              "      const base64 = btoa(String.fromCharCode.apply(null, chunk));\n",
              "      yield {\n",
              "        response: {\n",
              "          action: 'append',\n",
              "          file: file.name,\n",
              "          data: base64,\n",
              "        },\n",
              "      };\n",
              "\n",
              "      let percentDone = fileData.byteLength === 0 ?\n",
              "          100 :\n",
              "          Math.round((position / fileData.byteLength) * 100);\n",
              "      percent.textContent = `${percentDone}% done`;\n",
              "\n",
              "    } while (position < fileData.byteLength);\n",
              "  }\n",
              "\n",
              "  // All done.\n",
              "  yield {\n",
              "    response: {\n",
              "      action: 'complete',\n",
              "    }\n",
              "  };\n",
              "}\n",
              "\n",
              "scope.google = scope.google || {};\n",
              "scope.google.colab = scope.google.colab || {};\n",
              "scope.google.colab._files = {\n",
              "  _uploadFiles,\n",
              "  _uploadFilesContinue,\n",
              "};\n",
              "})(self);\n",
              "</script> "
            ]
          },
          "metadata": {}
        }
      ],
      "source": [
        "# Célula 4 — fazer upload ou baixar por URL\n",
        "image_path = None\n",
        "\n",
        "# 1) Primeiro tentamos upload via widget (funciona no Colab/Jupyter)\n",
        "try:\n",
        "    from google.colab import files as colab_files\n",
        "    uploaded = colab_files.upload()  # abre diálogo no Colab\n",
        "    if uploaded:\n",
        "        # pega o primeiro arquivo enviado\n",
        "        image_path = list(uploaded.keys())[0]\n",
        "        print('Arquivo enviado:', image_path)\n",
        "except Exception:\n",
        "    try:\n",
        "        # Em Jupyter local, usar IPython widgets alternativa\n",
        "        from IPython.display import display\n",
        "        import ipywidgets as widgets\n",
        "        uploader = widgets.FileUpload(accept='image/*', multiple=False)\n",
        "        display(uploader)\n",
        "        print('Use o widget acima para selecionar um arquivo e depois execute a célula novamente.')\n",
        "    except Exception:\n",
        "        print('Upload não disponível — forneça uma URL manualmente.')\n",
        "\n",
        "# 2) Se não houver upload, você pode definir uma URL aqui:\n",
        "image_url = ''  # exemplo: 'https://example.com/digit.png'\n",
        "if image_path is None and image_url:\n",
        "    print('Baixando imagem de URL...', image_url)\n",
        "    try:\n",
        "        import requests\n",
        "        resp = requests.get(image_url)\n",
        "        img_bytes = resp.content\n",
        "        with open('input_image.png', 'wb') as f:\n",
        "            f.write(img_bytes)\n",
        "        image_path = 'input_image.png'\n",
        "    except Exception as e:\n",
        "        print('Falha ao baixar a imagem:', e)\n",
        "\n",
        "print('image_path =', image_path)"
      ]
    },
    {
      "cell_type": "code",
      "execution_count": null,
      "id": "452d9849",
      "metadata": {
        "id": "452d9849"
      },
      "outputs": [],
      "source": [
        "# Célula 5 — preprocessing e inferência\n",
        "def preprocess_image(path_or_bytes, target_size=(28,28)):\n",
        "    # aceita path (str) ou bytes\n",
        "    if isinstance(path_or_bytes, bytes):\n",
        "        img = Image.open(BytesIO(path_or_bytes))\n",
        "    else:\n",
        "        img = Image.open(path_or_bytes)\n",
        "    # converter para grayscale e redimensionar\n",
        "    img = img.convert('L').resize(target_size, Image.ANTIALIAS)\n",
        "    arr = np.array(img).astype('float32') / 255.0\n",
        "    arr = np.expand_dims(arr, axis=-1)  # (28,28,1)\n",
        "    arr = np.expand_dims(arr, axis=0)   # (1,28,28,1)\n",
        "    return arr\n",
        "\n",
        "# Se image_path foi definido (upload), executa previsão\n",
        "if 'image_path' in globals() and image_path:\n",
        "    try:\n",
        "        x = preprocess_image(image_path)\n",
        "        preds = model.predict(x)\n",
        "        label = int(np.argmax(preds, axis=1)[0])\n",
        "        prob = float(np.max(preds))\n",
        "        print(f'Predição: {label}  (prob={prob:.4f})')\n",
        "        # mostrar imagem de entrada\n",
        "        plt.figure(figsize=(3,3))\n",
        "        img = Image.open(image_path).convert('L').resize((28,28), Image.ANTIALIAS)\n",
        "        plt.imshow(img, cmap='gray')\n",
        "        plt.title(f'pred: {label} (p={prob:.3f})')\n",
        "        plt.axis('off')\n",
        "        plt.show()\n",
        "    except Exception as e:\n",
        "        print('Erro ao processar ou predizer imagem:', e)\n",
        "else:\n",
        "    print('Nenhuma imagem fornecida. Use upload (Colab) ou defina image_url na célula de upload.')"
      ]
    },
    {
      "cell_type": "markdown",
      "id": "8a895c61",
      "metadata": {
        "id": "8a895c61"
      },
      "source": [
        "---\n",
        "### Notas finais\n",
        "- Se quiser testar com imagens contendo um único dígito manuscrito, a inferência deve funcionar bem. Para imagens maiores ou coloridas, o notebook converte para 28x28 grayscale.\n",
        "- Se o modelo não for encontrado, volte ao notebook de treino e execute a célula de salvamento no Drive ou salve o arquivo em `simple_cnn_mnist.h5`.\n",
        "\n",
        "Se quiser, eu adapto este notebook para reconhecer imagens CIFAR-10 (coloridas) ou para processar múltiplas imagens em lote."
      ]
    }
  ],
  "metadata": {
    "language_info": {
      "name": "python"
    },
    "colab": {
      "provenance": [],
      "gpuType": "T4",
      "include_colab_link": true
    },
    "kernelspec": {
      "name": "python3",
      "display_name": "Python 3"
    },
    "accelerator": "GPU"
  },
  "nbformat": 4,
  "nbformat_minor": 5
}