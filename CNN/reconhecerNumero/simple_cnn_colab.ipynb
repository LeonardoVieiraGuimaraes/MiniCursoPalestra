{
  "cells": [
    {
      "cell_type": "markdown",
      "id": "dcab3882",
      "metadata": {
        "colab_type": "text",
        "id": "view-in-github"
      },
      "source": [
        "<a href=\"https://colab.research.google.com/github/LeonardoVieiraGuimaraes/MiniCursoPalestra/blob/main/CNN/reconhecerNumero/simple_cnn_colab.ipynb\" target=\"_parent\"><img src=\"https://colab.research.google.com/assets/colab-badge.svg\" alt=\"Open In Colab\"/></a>"
      ]
    },
    {
      "cell_type": "markdown",
      "id": "0dccd2c2",
      "metadata": {
        "id": "0dccd2c2"
      },
      "source": [
        "# CNN simples para Google Colab (treino MNIST)\n",
        "\n",
        "Resumo: Este notebook prepara, treina e avalia uma CNN simples no conjunto MNIST. Ele foi pensado para rodar no Google Colab (GPU opcional) ou localmente em um ambiente Python com TensorFlow instalado.\n",
        "\n",
        "Pré-requisitos:\n",
        "- Python 3.8+ e TensorFlow compatível (no Colab, o runtime já oferece TF).\n",
        "- (Opcional) GPU no Colab para acelerar o treinamento.\n",
        "\n",
        "Como usar:\n",
        "1. Execute as células na ordem apresentada.\n",
        "2. Na célula de instalação (se em Colab) permita a instalação de dependências quando solicitado.\n",
        "3. Ajuste hiperparâmetros (epochs, batch_size) na célula de treino se desejar.\n",
        "4. Ao final, salve o modelo com a célula de salvamento (opcionalmente no Google Drive).\n",
        "\n",
        "Arquivos gerados esperados:\n",
        "- `best_model.h5` (melhor checkpoint local).\n",
        "- `simple_cnn_mnist.h5` (arquivo salvo opcional).\n",
        "\n",
        "Entradas / Saídas:\n",
        "- Entrada: nenhum arquivo externo é necessário (os dados MNIST são baixados automaticamente).\n",
        "- Saída: modelos salvos em disco + gráficos do histórico de treino e métricas de teste.\n",
        "\n",
        "Notas e dicas:\n",
        "- Use `validation_split` pequeno (ex.: 0.1) para validação rápida.\n",
        "- Se desejar reproduzir resultados, defina uma semente RNG antes do trecho de treino.\n",
        "- Para experimentar com outros datasets (Fashion-MNIST, CIFAR-10), adapte a célula de carregamento dos dados."
      ]
    },
    {
      "cell_type": "markdown",
      "id": "0d9792e5",
      "metadata": {
        "id": "0d9792e5"
      },
      "source": [
        "Instalação condicional (Colab):\n",
        "Detecta execução em Colab e instala pacotes; atenção: evitar reinstalar TensorFlow no Colab para não causar conflitos."
      ]
    },
    {
      "cell_type": "code",
      "execution_count": 7,
      "id": "c28916a8",
      "metadata": {
        "colab": {
          "base_uri": "https://localhost:8080/"
        },
        "id": "c28916a8",
        "outputId": "0645f8f0-5519-4e8b-cfba-ced445651aa6"
      },
      "outputs": [
        {
          "name": "stdout",
          "output_type": "stream",
          "text": [
            "Instalando dependências ausentes (sem montar Drive)...\n",
            "  numpy: ok\n",
            "  pandas: ok\n",
            "  sklearn: ok\n",
            "  matplotlib: ok\n",
            "  joblib: ok\n",
            "  tensorflow: ok\n",
            "Versões (None = não disponível): {'numpy': '2.3.3', 'pandas': '2.3.3', 'sklearn': '1.7.2', 'matplotlib': '3.10.7', 'joblib': '1.5.2', 'tensorflow': '2.20.0'}\n",
            "TensorFlow version: 2.20.0\n",
            "GPUs found: []\n"
          ]
        }
      ],
      "source": [
        "# ...existing code...\n",
        "import sys\n",
        "import subprocess\n",
        "import importlib\n",
        "\n",
        "# pacotes requeridos: chave = nome pip, valor = nome do módulo para import\n",
        "REQUIRED = {\n",
        "    \"numpy\": \"numpy\",\n",
        "    \"pandas\": \"pandas\",\n",
        "    \"scikit-learn\": \"sklearn\",\n",
        "    \"matplotlib\": \"matplotlib\",\n",
        "    \"joblib\": \"joblib\",\n",
        "    \"tensorflow\": \"tensorflow\"\n",
        "}\n",
        "\n",
        "def install(pkg):\n",
        "    subprocess.check_call([sys.executable, \"-m\", \"pip\", \"install\", \"--upgrade\", pkg])\n",
        "\n",
        "print(\"Instalando dependências ausentes (sem montar Drive)...\")\n",
        "for pkg, mod in REQUIRED.items():\n",
        "    try:\n",
        "        importlib.import_module(mod)\n",
        "        print(f\"  {mod}: ok\")\n",
        "    except Exception:\n",
        "        print(f\"  {mod}: não encontrado — instalando {pkg} ...\")\n",
        "        install(pkg)\n",
        "\n",
        "def versoes():\n",
        "    out = {}\n",
        "    for pkg, mod in REQUIRED.items():\n",
        "        try:\n",
        "            m = importlib.import_module(mod)\n",
        "            out[mod] = getattr(m, \"__version__\", \"ok\")\n",
        "        except Exception:\n",
        "            out[mod] = None\n",
        "    return out\n",
        "\n",
        "print(\"Versões (None = não disponível):\", versoes())\n",
        "\n",
        "import tensorflow as tf\n",
        "import numpy as np\n",
        "import matplotlib.pyplot as plt\n",
        "\n",
        "print('TensorFlow version:', tf.__version__)\n",
        "gpus = tf.config.list_physical_devices('GPU')\n",
        "print('GPUs found:', gpus)\n",
        "\n",
        "\n"
      ]
    },
    {
      "cell_type": "markdown",
      "id": "ce2025c7",
      "metadata": {
        "id": "ce2025c7"
      },
      "source": [
        "Checar ambiente:\n",
        "Importa as bibliotecas principais e mostra versão do TensorFlow e GPUs disponíveis. Útil para confirmar que o ambiente tem aceleração por hardware."
      ]
    },
    {
      "cell_type": "code",
      "execution_count": 8,
      "id": "2b4dd415",
      "metadata": {
        "colab": {
          "base_uri": "https://localhost:8080/"
        },
        "id": "2b4dd415",
        "outputId": "78098f83-02f2-4205-c886-756821b7a24b"
      },
      "outputs": [
        {
          "name": "stdout",
          "output_type": "stream",
          "text": [
            "TensorFlow version: 2.20.0\n",
            "GPUs found: []\n"
          ]
        }
      ],
      "source": [
        "import tensorflow as tf\n",
        "import numpy as np\n",
        "import matplotlib.pyplot as plt\n",
        "\n",
        "print('TensorFlow version:', tf.__version__)\n",
        "gpus = tf.config.list_physical_devices('GPU')\n",
        "print('GPUs found:', gpus)"
      ]
    },
    {
      "cell_type": "markdown",
      "id": "c9abb12d",
      "metadata": {
        "id": "c9abb12d"
      },
      "source": [
        "Carregar MNIST e pré-processar:\n",
        "Baixa MNIST (se necessário), normaliza pixels para [0,1] e ajusta dimensões para o modelo (batch, height, width, channel). Mostra algumas amostras."
      ]
    },
    {
      "cell_type": "code",
      "execution_count": 9,
      "id": "4b6ca89e",
      "metadata": {
        "colab": {
          "base_uri": "https://localhost:8080/",
          "height": 576
        },
        "id": "4b6ca89e",
        "outputId": "31a65f2f-4342-4436-e3a1-3f6c7c7a691f"
      },
      "outputs": [
        {
          "name": "stdout",
          "output_type": "stream",
          "text": [
            "x_train shape: (60000, 28, 28, 1) y_train shape: (60000,)\n"
          ]
        },
        {
          "data": {
            "image/png": "[encoded data removed]",
            "text/plain": [
              "<Figure size 600x600 with 9 Axes>"
            ]
          },
          "metadata": {},
          "output_type": "display_data"
        }
      ],
      "source": [
        "(x_train, y_train), (x_test, y_test) = tf.keras.datasets.mnist.load_data()\n",
        "\n",
        "# Normalizar e expandir canal\n",
        "x_train = x_train.astype('float32') / 255.0\n",
        "x_test = x_test.astype('float32') / 255.0\n",
        "x_train = np.expand_dims(x_train, -1)  # (60000, 28, 28, 1)\n",
        "x_test = np.expand_dims(x_test, -1)\n",
        "\n",
        "print('x_train shape:', x_train.shape, 'y_train shape:', y_train.shape)\n",
        "\n",
        "# Mostrar as 9 primeiras imagens de treino\n",
        "plt.figure(figsize=(6,6))\n",
        "for i in range(9):\n",
        "    plt.subplot(3,3,i+1)\n",
        "    plt.imshow(x_train[i].squeeze(), cmap='gray')\n",
        "    plt.title(str(y_train[i]))\n",
        "    plt.axis('off')\n",
        "plt.show()"
      ]
    },
    {
      "cell_type": "markdown",
      "id": "83867db3",
      "metadata": {
        "id": "83867db3"
      },
      "source": [
        "Definir arquitetura da CNN:\n",
        "Função que constrói um modelo Sequential teste com duas camadas convolucionais, pooling, flatten e dense final. Use essa célula para modificar arquitetura ou hiperparâmetros."
      ]
    },
    {
      "cell_type": "code",
      "execution_count": 10,
      "id": "b31b9b2b",
      "metadata": {
        "colab": {
          "base_uri": "https://localhost:8080/",
          "height": 450
        },
        "id": "b31b9b2b",
        "outputId": "ef255dcd-d8b7-485d-b472-a4d3f0cd0d9b"
      },
      "outputs": [
        {
          "data": {
            "text/html": [
              "<pre style=\"white-space:pre;overflow-x:auto;line-height:normal;font-family:Menlo,'DejaVu Sans Mono',consolas,'Courier New',monospace\"><span style=\"font-weight: bold\">Model: \"sequential_1\"</span>\n",
              "</pre>\n"
            ],
            "text/plain": [
              "\u001b[1mModel: \"sequential_1\"\u001b[0m\n"
            ]
          },
          "metadata": {},
          "output_type": "display_data"
        },
        {
          "data": {
            "text/html": [
              "<pre style=\"white-space:pre;overflow-x:auto;line-height:normal;font-family:Menlo,'DejaVu Sans Mono',consolas,'Courier New',monospace\">┏━━━━━━━━━━━━━━━━━━━━━━━━━━━━━━━━━┳━━━━━━━━━━━━━━━━━━━━━━━━┳━━━━━━━━━━━━━━━┓\n",
              "┃<span style=\"font-weight: bold\"> Layer (type)                    </span>┃<span style=\"font-weight: bold\"> Output Shape           </span>┃<span style=\"font-weight: bold\">       Param # </span>┃\n",
              "┡━━━━━━━━━━━━━━━━━━━━━━━━━━━━━━━━━╇━━━━━━━━━━━━━━━━━━━━━━━━╇━━━━━━━━━━━━━━━┩\n",
              "│ conv2d_2 (<span style=\"color: #0087ff; text-decoration-color: #0087ff\">Conv2D</span>)               │ (<span style=\"color: #00d7ff; text-decoration-color: #00d7ff\">None</span>, <span style=\"color: #00af00; text-decoration-color: #00af00\">26</span>, <span style=\"color: #00af00; text-decoration-color: #00af00\">26</span>, <span style=\"color: #00af00; text-decoration-color: #00af00\">32</span>)     │           <span style=\"color: #00af00; text-decoration-color: #00af00\">320</span> │\n",
              "├─────────────────────────────────┼────────────────────────┼───────────────┤\n",
              "│ max_pooling2d_2 (<span style=\"color: #0087ff; text-decoration-color: #0087ff\">MaxPooling2D</span>)  │ (<span style=\"color: #00d7ff; text-decoration-color: #00d7ff\">None</span>, <span style=\"color: #00af00; text-decoration-color: #00af00\">13</span>, <span style=\"color: #00af00; text-decoration-color: #00af00\">13</span>, <span style=\"color: #00af00; text-decoration-color: #00af00\">32</span>)     │             <span style=\"color: #00af00; text-decoration-color: #00af00\">0</span> │\n",
              "├─────────────────────────────────┼────────────────────────┼───────────────┤\n",
              "│ conv2d_3 (<span style=\"color: #0087ff; text-decoration-color: #0087ff\">Conv2D</span>)               │ (<span style=\"color: #00d7ff; text-decoration-color: #00d7ff\">None</span>, <span style=\"color: #00af00; text-decoration-color: #00af00\">11</span>, <span style=\"color: #00af00; text-decoration-color: #00af00\">11</span>, <span style=\"color: #00af00; text-decoration-color: #00af00\">64</span>)     │        <span style=\"color: #00af00; text-decoration-color: #00af00\">18,496</span> │\n",
              "├─────────────────────────────────┼────────────────────────┼───────────────┤\n",
              "│ max_pooling2d_3 (<span style=\"color: #0087ff; text-decoration-color: #0087ff\">MaxPooling2D</span>)  │ (<span style=\"color: #00d7ff; text-decoration-color: #00d7ff\">None</span>, <span style=\"color: #00af00; text-decoration-color: #00af00\">5</span>, <span style=\"color: #00af00; text-decoration-color: #00af00\">5</span>, <span style=\"color: #00af00; text-decoration-color: #00af00\">64</span>)       │             <span style=\"color: #00af00; text-decoration-color: #00af00\">0</span> │\n",
              "├─────────────────────────────────┼────────────────────────┼───────────────┤\n",
              "│ flatten_1 (<span style=\"color: #0087ff; text-decoration-color: #0087ff\">Flatten</span>)             │ (<span style=\"color: #00d7ff; text-decoration-color: #00d7ff\">None</span>, <span style=\"color: #00af00; text-decoration-color: #00af00\">1600</span>)           │             <span style=\"color: #00af00; text-decoration-color: #00af00\">0</span> │\n",
              "├─────────────────────────────────┼────────────────────────┼───────────────┤\n",
              "│ dense_2 (<span style=\"color: #0087ff; text-decoration-color: #0087ff\">Dense</span>)                 │ (<span style=\"color: #00d7ff; text-decoration-color: #00d7ff\">None</span>, <span style=\"color: #00af00; text-decoration-color: #00af00\">128</span>)            │       <span style=\"color: #00af00; text-decoration-color: #00af00\">204,928</span> │\n",
              "├─────────────────────────────────┼────────────────────────┼───────────────┤\n",
              "│ dropout_1 (<span style=\"color: #0087ff; text-decoration-color: #0087ff\">Dropout</span>)             │ (<span style=\"color: #00d7ff; text-decoration-color: #00d7ff\">None</span>, <span style=\"color: #00af00; text-decoration-color: #00af00\">128</span>)            │             <span style=\"color: #00af00; text-decoration-color: #00af00\">0</span> │\n",
              "├─────────────────────────────────┼────────────────────────┼───────────────┤\n",
              "│ dense_3 (<span style=\"color: #0087ff; text-decoration-color: #0087ff\">Dense</span>)                 │ (<span style=\"color: #00d7ff; text-decoration-color: #00d7ff\">None</span>, <span style=\"color: #00af00; text-decoration-color: #00af00\">10</span>)             │         <span style=\"color: #00af00; text-decoration-color: #00af00\">1,290</span> │\n",
              "└─────────────────────────────────┴────────────────────────┴───────────────┘\n",
              "</pre>\n"
            ],
            "text/plain": [
              "┏━━━━━━━━━━━━━━━━━━━━━━━━━━━━━━━━━┳━━━━━━━━━━━━━━━━━━━━━━━━┳━━━━━━━━━━━━━━━┓\n",
              "┃\u001b[1m \u001b[0m\u001b[1mLayer (type)                   \u001b[0m\u001b[1m \u001b[0m┃\u001b[1m \u001b[0m\u001b[1mOutput Shape          \u001b[0m\u001b[1m \u001b[0m┃\u001b[1m \u001b[0m\u001b[1m      Param #\u001b[0m\u001b[1m \u001b[0m┃\n",
              "┡━━━━━━━━━━━━━━━━━━━━━━━━━━━━━━━━━╇━━━━━━━━━━━━━━━━━━━━━━━━╇━━━━━━━━━━━━━━━┩\n",
              "│ conv2d_2 (\u001b[38;5;33mConv2D\u001b[0m)               │ (\u001b[38;5;45mNone\u001b[0m, \u001b[38;5;34m26\u001b[0m, \u001b[38;5;34m26\u001b[0m, \u001b[38;5;34m32\u001b[0m)     │           \u001b[38;5;34m320\u001b[0m │\n",
              "├─────────────────────────────────┼────────────────────────┼───────────────┤\n",
              "│ max_pooling2d_2 (\u001b[38;5;33mMaxPooling2D\u001b[0m)  │ (\u001b[38;5;45mNone\u001b[0m, \u001b[38;5;34m13\u001b[0m, \u001b[38;5;34m13\u001b[0m, \u001b[38;5;34m32\u001b[0m)     │             \u001b[38;5;34m0\u001b[0m │\n",
              "├─────────────────────────────────┼────────────────────────┼───────────────┤\n",
              "│ conv2d_3 (\u001b[38;5;33mConv2D\u001b[0m)               │ (\u001b[38;5;45mNone\u001b[0m, \u001b[38;5;34m11\u001b[0m, \u001b[38;5;34m11\u001b[0m, \u001b[38;5;34m64\u001b[0m)     │        \u001b[38;5;34m18,496\u001b[0m │\n",
              "├─────────────────────────────────┼────────────────────────┼───────────────┤\n",
              "│ max_pooling2d_3 (\u001b[38;5;33mMaxPooling2D\u001b[0m)  │ (\u001b[38;5;45mNone\u001b[0m, \u001b[38;5;34m5\u001b[0m, \u001b[38;5;34m5\u001b[0m, \u001b[38;5;34m64\u001b[0m)       │             \u001b[38;5;34m0\u001b[0m │\n",
              "├─────────────────────────────────┼────────────────────────┼───────────────┤\n",
              "│ flatten_1 (\u001b[38;5;33mFlatten\u001b[0m)             │ (\u001b[38;5;45mNone\u001b[0m, \u001b[38;5;34m1600\u001b[0m)           │             \u001b[38;5;34m0\u001b[0m │\n",
              "├─────────────────────────────────┼────────────────────────┼───────────────┤\n",
              "│ dense_2 (\u001b[38;5;33mDense\u001b[0m)                 │ (\u001b[38;5;45mNone\u001b[0m, \u001b[38;5;34m128\u001b[0m)            │       \u001b[38;5;34m204,928\u001b[0m │\n",
              "├─────────────────────────────────┼────────────────────────┼───────────────┤\n",
              "│ dropout_1 (\u001b[38;5;33mDropout\u001b[0m)             │ (\u001b[38;5;45mNone\u001b[0m, \u001b[38;5;34m128\u001b[0m)            │             \u001b[38;5;34m0\u001b[0m │\n",
              "├─────────────────────────────────┼────────────────────────┼───────────────┤\n",
              "│ dense_3 (\u001b[38;5;33mDense\u001b[0m)                 │ (\u001b[38;5;45mNone\u001b[0m, \u001b[38;5;34m10\u001b[0m)             │         \u001b[38;5;34m1,290\u001b[0m │\n",
              "└─────────────────────────────────┴────────────────────────┴───────────────┘\n"
            ]
          },
          "metadata": {},
          "output_type": "display_data"
        },
        {
          "data": {
            "text/html": [
              "<pre style=\"white-space:pre;overflow-x:auto;line-height:normal;font-family:Menlo,'DejaVu Sans Mono',consolas,'Courier New',monospace\"><span style=\"font-weight: bold\"> Total params: </span><span style=\"color: #00af00; text-decoration-color: #00af00\">225,034</span> (879.04 KB)\n",
              "</pre>\n"
            ],
            "text/plain": [
              "\u001b[1m Total params: \u001b[0m\u001b[38;5;34m225,034\u001b[0m (879.04 KB)\n"
            ]
          },
          "metadata": {},
          "output_type": "display_data"
        },
        {
          "data": {
            "text/html": [
              "<pre style=\"white-space:pre;overflow-x:auto;line-height:normal;font-family:Menlo,'DejaVu Sans Mono',consolas,'Courier New',monospace\"><span style=\"font-weight: bold\"> Trainable params: </span><span style=\"color: #00af00; text-decoration-color: #00af00\">225,034</span> (879.04 KB)\n",
              "</pre>\n"
            ],
            "text/plain": [
              "\u001b[1m Trainable params: \u001b[0m\u001b[38;5;34m225,034\u001b[0m (879.04 KB)\n"
            ]
          },
          "metadata": {},
          "output_type": "display_data"
        },
        {
          "data": {
            "text/html": [
              "<pre style=\"white-space:pre;overflow-x:auto;line-height:normal;font-family:Menlo,'DejaVu Sans Mono',consolas,'Courier New',monospace\"><span style=\"font-weight: bold\"> Non-trainable params: </span><span style=\"color: #00af00; text-decoration-color: #00af00\">0</span> (0.00 B)\n",
              "</pre>\n"
            ],
            "text/plain": [
              "\u001b[1m Non-trainable params: \u001b[0m\u001b[38;5;34m0\u001b[0m (0.00 B)\n"
            ]
          },
          "metadata": {},
          "output_type": "display_data"
        }
      ],
      "source": [
        "from tensorflow.keras import layers, models\n",
        "\n",
        "def build_simple_cnn(input_shape=(28,28,1), num_classes=10):\n",
        "    model = models.Sequential([\n",
        "        layers.Conv2D(32, (3,3), activation='relu', input_shape=input_shape),\n",
        "        layers.MaxPooling2D((2,2)),\n",
        "        layers.Conv2D(64, (3,3), activation='relu'),\n",
        "        layers.MaxPooling2D((2,2)),\n",
        "        layers.Flatten(),\n",
        "        layers.Dense(128, activation='relu'),\n",
        "        layers.Dropout(0.4),\n",
        "        layers.Dense(num_classes, activation='softmax')\n",
        "    ])\n",
        "    return model\n",
        "\n",
        "model = build_simple_cnn()\n",
        "model.summary()"
      ]
    },
    {
      "cell_type": "markdown",
      "id": "7662afb4",
      "metadata": {
        "id": "7662afb4"
      },
      "source": [
        "Compilar e treinar:\n",
        "Compila o modelo com optimizer e loss e inicia o treinamento com EarlyStopping e ModelCheckpoint para salvar o melhor estado."
      ]
    },
    {
      "cell_type": "code",
      "execution_count": 11,
      "id": "e3710dce",
      "metadata": {
        "colab": {
          "base_uri": "https://localhost:8080/"
        },
        "id": "e3710dce",
        "outputId": "3bb2b16c-c809-4719-af9a-68a9813fbb67"
      },
      "outputs": [
        {
          "name": "stdout",
          "output_type": "stream",
          "text": [
            "Epoch 1/15\n",
            "\u001b[1m420/422\u001b[0m \u001b[32m━━━━━━━━━━━━━━━━━━━\u001b[0m\u001b[37m━\u001b[0m \u001b[1m0s\u001b[0m 10ms/step - accuracy: 0.8103 - loss: 0.5991"
          ]
        },
        {
          "name": "stderr",
          "output_type": "stream",
          "text": [
            "WARNING:absl:You are saving your model as an HDF5 file via `model.save()` or `keras.saving.save_model(model)`. This file format is considered legacy. We recommend using instead the native Keras format, e.g. `model.save('my_model.keras')` or `keras.saving.save_model(model, 'my_model.keras')`. \n"
          ]
        },
        {
          "name": "stdout",
          "output_type": "stream",
          "text": [
            "\u001b[1m422/422\u001b[0m \u001b[32m━━━━━━━━━━━━━━━━━━━━\u001b[0m\u001b[37m\u001b[0m \u001b[1m6s\u001b[0m 11ms/step - accuracy: 0.9119 - loss: 0.2836 - val_accuracy: 0.9842 - val_loss: 0.0594\n",
            "Epoch 2/15\n",
            "\u001b[1m419/422\u001b[0m \u001b[32m━━━━━━━━━━━━━━━━━━━\u001b[0m\u001b[37m━\u001b[0m \u001b[1m0s\u001b[0m 11ms/step - accuracy: 0.9700 - loss: 0.0971"
          ]
        },
        {
          "name": "stderr",
          "output_type": "stream",
          "text": [
            "WARNING:absl:You are saving your model as an HDF5 file via `model.save()` or `keras.saving.save_model(model)`. This file format is considered legacy. We recommend using instead the native Keras format, e.g. `model.save('my_model.keras')` or `keras.saving.save_model(model, 'my_model.keras')`. \n"
          ]
        },
        {
          "name": "stdout",
          "output_type": "stream",
          "text": [
            "\u001b[1m422/422\u001b[0m \u001b[32m━━━━━━━━━━━━━━━━━━━━\u001b[0m\u001b[37m\u001b[0m \u001b[1m5s\u001b[0m 11ms/step - accuracy: 0.9728 - loss: 0.0886 - val_accuracy: 0.9877 - val_loss: 0.0428\n",
            "Epoch 3/15\n",
            "\u001b[1m419/422\u001b[0m \u001b[32m━━━━━━━━━━━━━━━━━━━\u001b[0m\u001b[37m━\u001b[0m \u001b[1m0s\u001b[0m 10ms/step - accuracy: 0.9809 - loss: 0.0645"
          ]
        },
        {
          "name": "stderr",
          "output_type": "stream",
          "text": [
            "WARNING:absl:You are saving your model as an HDF5 file via `model.save()` or `keras.saving.save_model(model)`. This file format is considered legacy. We recommend using instead the native Keras format, e.g. `model.save('my_model.keras')` or `keras.saving.save_model(model, 'my_model.keras')`. \n"
          ]
        },
        {
          "name": "stdout",
          "output_type": "stream",
          "text": [
            "\u001b[1m422/422\u001b[0m \u001b[32m━━━━━━━━━━━━━━━━━━━━\u001b[0m\u001b[37m\u001b[0m \u001b[1m4s\u001b[0m 10ms/step - accuracy: 0.9815 - loss: 0.0635 - val_accuracy: 0.9902 - val_loss: 0.0324\n",
            "Epoch 4/15\n",
            "\u001b[1m422/422\u001b[0m \u001b[32m━━━━━━━━━━━━━━━━━━━━\u001b[0m\u001b[37m\u001b[0m \u001b[1m4s\u001b[0m 10ms/step - accuracy: 0.9836 - loss: 0.0523 - val_accuracy: 0.9895 - val_loss: 0.0335\n",
            "Epoch 5/15\n",
            "\u001b[1m419/422\u001b[0m \u001b[32m━━━━━━━━━━━━━━━━━━━\u001b[0m\u001b[37m━\u001b[0m \u001b[1m0s\u001b[0m 10ms/step - accuracy: 0.9864 - loss: 0.0429"
          ]
        },
        {
          "name": "stderr",
          "output_type": "stream",
          "text": [
            "WARNING:absl:You are saving your model as an HDF5 file via `model.save()` or `keras.saving.save_model(model)`. This file format is considered legacy. We recommend using instead the native Keras format, e.g. `model.save('my_model.keras')` or `keras.saving.save_model(model, 'my_model.keras')`. \n"
          ]
        },
        {
          "name": "stdout",
          "output_type": "stream",
          "text": [
            "\u001b[1m422/422\u001b[0m \u001b[32m━━━━━━━━━━━━━━━━━━━━\u001b[0m\u001b[37m\u001b[0m \u001b[1m5s\u001b[0m 11ms/step - accuracy: 0.9862 - loss: 0.0437 - val_accuracy: 0.9915 - val_loss: 0.0291\n",
            "Epoch 6/15\n",
            "\u001b[1m417/422\u001b[0m \u001b[32m━━━━━━━━━━━━━━━━━━━\u001b[0m\u001b[37m━\u001b[0m \u001b[1m0s\u001b[0m 10ms/step - accuracy: 0.9902 - loss: 0.0326"
          ]
        },
        {
          "name": "stderr",
          "output_type": "stream",
          "text": [
            "WARNING:absl:You are saving your model as an HDF5 file via `model.save()` or `keras.saving.save_model(model)`. This file format is considered legacy. We recommend using instead the native Keras format, e.g. `model.save('my_model.keras')` or `keras.saving.save_model(model, 'my_model.keras')`. \n"
          ]
        },
        {
          "name": "stdout",
          "output_type": "stream",
          "text": [
            "\u001b[1m422/422\u001b[0m \u001b[32m━━━━━━━━━━━━━━━━━━━━\u001b[0m\u001b[37m\u001b[0m \u001b[1m4s\u001b[0m 10ms/step - accuracy: 0.9891 - loss: 0.0359 - val_accuracy: 0.9927 - val_loss: 0.0273\n",
            "Epoch 7/15\n",
            "\u001b[1m422/422\u001b[0m \u001b[32m━━━━━━━━━━━━━━━━━━━━\u001b[0m\u001b[37m\u001b[0m \u001b[1m5s\u001b[0m 11ms/step - accuracy: 0.9904 - loss: 0.0316 - val_accuracy: 0.9912 - val_loss: 0.0308\n",
            "Epoch 8/15\n",
            "\u001b[1m422/422\u001b[0m \u001b[32m━━━━━━━━━━━━━━━━━━━━\u001b[0m\u001b[37m\u001b[0m \u001b[1m4s\u001b[0m 11ms/step - accuracy: 0.9918 - loss: 0.0269 - val_accuracy: 0.9922 - val_loss: 0.0279\n",
            "Epoch 9/15\n",
            "\u001b[1m420/422\u001b[0m \u001b[32m━━━━━━━━━━━━━━━━━━━\u001b[0m\u001b[37m━\u001b[0m \u001b[1m0s\u001b[0m 10ms/step - accuracy: 0.9924 - loss: 0.0229"
          ]
        },
        {
          "name": "stderr",
          "output_type": "stream",
          "text": [
            "WARNING:absl:You are saving your model as an HDF5 file via `model.save()` or `keras.saving.save_model(model)`. This file format is considered legacy. We recommend using instead the native Keras format, e.g. `model.save('my_model.keras')` or `keras.saving.save_model(model, 'my_model.keras')`. \n"
          ]
        },
        {
          "name": "stdout",
          "output_type": "stream",
          "text": [
            "\u001b[1m422/422\u001b[0m \u001b[32m━━━━━━━━━━━━━━━━━━━━\u001b[0m\u001b[37m\u001b[0m \u001b[1m5s\u001b[0m 11ms/step - accuracy: 0.9924 - loss: 0.0236 - val_accuracy: 0.9920 - val_loss: 0.0256\n",
            "Epoch 10/15\n",
            "\u001b[1m422/422\u001b[0m \u001b[32m━━━━━━━━━━━━━━━━━━━━\u001b[0m\u001b[37m\u001b[0m \u001b[1m5s\u001b[0m 11ms/step - accuracy: 0.9933 - loss: 0.0213 - val_accuracy: 0.9917 - val_loss: 0.0287\n",
            "Epoch 11/15\n",
            "\u001b[1m422/422\u001b[0m \u001b[32m━━━━━━━━━━━━━━━━━━━━\u001b[0m\u001b[37m\u001b[0m \u001b[1m5s\u001b[0m 11ms/step - accuracy: 0.9936 - loss: 0.0187 - val_accuracy: 0.9913 - val_loss: 0.0320\n",
            "Epoch 12/15\n",
            "\u001b[1m422/422\u001b[0m \u001b[32m━━━━━━━━━━━━━━━━━━━━\u001b[0m\u001b[37m\u001b[0m \u001b[1m5s\u001b[0m 12ms/step - accuracy: 0.9941 - loss: 0.0177 - val_accuracy: 0.9918 - val_loss: 0.0325\n",
            "Epoch 13/15\n",
            "\u001b[1m422/422\u001b[0m \u001b[32m━━━━━━━━━━━━━━━━━━━━\u001b[0m\u001b[37m\u001b[0m \u001b[1m4s\u001b[0m 11ms/step - accuracy: 0.9941 - loss: 0.0177 - val_accuracy: 0.9920 - val_loss: 0.0294\n",
            "Epoch 14/15\n",
            "\u001b[1m422/422\u001b[0m \u001b[32m━━━━━━━━━━━━━━━━━━━━\u001b[0m\u001b[37m\u001b[0m \u001b[1m5s\u001b[0m 11ms/step - accuracy: 0.9953 - loss: 0.0150 - val_accuracy: 0.9923 - val_loss: 0.0305\n"
          ]
        }
      ],
      "source": [
        "model.compile(optimizer='adam',\n",
        "              loss='sparse_categorical_crossentropy',\n",
        "              metrics=['accuracy'])\n",
        "\n",
        "from tensorflow.keras.callbacks import EarlyStopping, ModelCheckpoint\n",
        "\n",
        "# Salvar melhor modelo localmente (runtime)\n",
        "checkpoint_path = 'best_model.h5'\n",
        "callbacks = [\n",
        "    EarlyStopping(monitor='val_loss', patience=5, restore_best_weights=True),\n",
        "    ModelCheckpoint(checkpoint_path, monitor='val_loss', save_best_only=True)\n",
        "]\n",
        "\n",
        "history = model.fit(x_train, y_train,\n",
        "                    epochs=15,\n",
        "                    batch_size=128,\n",
        "                    validation_split=0.1,\n",
        "                    callbacks=callbacks)"
      ]
    },
    {
      "cell_type": "markdown",
      "id": "d2ee17c2",
      "metadata": {
        "id": "d2ee17c2"
      },
      "source": [
        "Plot das curvas de treino:\n",
        "Plota loss/val_loss e accuracy/val_accuracy usando o histórico retornado pelo `model.fit`. Útil para inspecionar overfitting ou instabilidade."
      ]
    },
    {
      "cell_type": "code",
      "execution_count": 12,
      "id": "7b525ed1",
      "metadata": {
        "colab": {
          "base_uri": "https://localhost:8080/",
          "height": 391
        },
        "id": "7b525ed1",
        "outputId": "e2caea56-941f-4982-aaec-44f5f362d878"
      },
      "outputs": [
        {
          "data": {
            "image/png": "[encoded data removed]",
            "text/plain": [
              "<Figure size 1200x400 with 2 Axes>"
            ]
          },
          "metadata": {},
          "output_type": "display_data"
        }
      ],
      "source": [
        "# Plot das curvas de treino/validação\n",
        "import matplotlib.pyplot as plt\n",
        "\n",
        "plt.figure(figsize=(12,4))\n",
        "plt.subplot(1,2,1)\n",
        "plt.plot(history.history['loss'], label='train_loss')\n",
        "plt.plot(history.history['val_loss'], label='val_loss')\n",
        "plt.legend()\n",
        "plt.title('Loss')\n",
        "\n",
        "plt.subplot(1,2,2)\n",
        "plt.plot(history.history['accuracy'], label='train_acc')\n",
        "plt.plot(history.history['val_accuracy'], label='val_acc')\n",
        "plt.legend()\n",
        "plt.title('Accuracy')\n",
        "plt.show()"
      ]
    },
    {
      "cell_type": "markdown",
      "id": "8a4f2da0",
      "metadata": {
        "id": "8a4f2da0"
      },
      "source": [
        "Avaliar no conjunto de teste:\n",
        "Executa `model.evaluate` sobre `x_test`/`y_test` e imprime métricas finais. Se quiser avaliar o checkpoint salvo, carregue `best_model.h5` antes."
      ]
    },
    {
      "cell_type": "code",
      "execution_count": 13,
      "id": "587abb58",
      "metadata": {
        "colab": {
          "base_uri": "https://localhost:8080/"
        },
        "id": "587abb58",
        "outputId": "47a31844-c795-43fa-93fb-ad2f91d1b8d6"
      },
      "outputs": [
        {
          "name": "stdout",
          "output_type": "stream",
          "text": [
            "313/313 - 1s - 2ms/step - accuracy: 0.9928 - loss: 0.0214\n",
            "Test accuracy: 0.9928, Test loss: 0.0214\n"
          ]
        }
      ],
      "source": [
        "# Avaliar no conjunto de teste\n",
        "test_loss, test_acc = model.evaluate(x_test, y_test, verbose=2)\n",
        "print(f'Test accuracy: {test_acc:.4f}, Test loss: {test_loss:.4f}')"
      ]
    },
    {
      "cell_type": "markdown",
      "id": "85faf4cc",
      "metadata": {
        "id": "85faf4cc"
      },
      "source": [
        "Visualizar previsões:\n",
        "Mostra as primeiras 25 imagens do conjunto de teste com previsões e coloração dos rótulos (verde correto, vermelho incorreto)."
      ]
    },
    {
      "cell_type": "code",
      "execution_count": 14,
      "id": "6fde9f85",
      "metadata": {
        "colab": {
          "base_uri": "https://localhost:8080/",
          "height": 844
        },
        "id": "6fde9f85",
        "outputId": "076775db-22f4-40cf-e45e-a456f959efb9"
      },
      "outputs": [
        {
          "name": "stdout",
          "output_type": "stream",
          "text": [
            "\u001b[1m1/1\u001b[0m \u001b[32m━━━━━━━━━━━━━━━━━━━━\u001b[0m\u001b[37m\u001b[0m \u001b[1m0s\u001b[0m 80ms/step\n"
          ]
        },
        {
          "data": {
            "image/png": "[encoded data removed]",
            "text/plain": [
              "<Figure size 1000x1000 with 25 Axes>"
            ]
          },
          "metadata": {},
          "output_type": "display_data"
        }
      ],
      "source": [
        "preds = model.predict(x_test[:25])\n",
        "pred_labels = np.argmax(preds, axis=1)\n",
        "\n",
        "plt.figure(figsize=(10,10))\n",
        "for i in range(25):\n",
        "    plt.subplot(5,5,i+1)\n",
        "    plt.xticks([])\n",
        "    plt.yticks([])\n",
        "    plt.grid(False)\n",
        "    plt.imshow(x_test[i].squeeze(), cmap=plt.cm.binary)\n",
        "    color = 'green' if pred_labels[i] == y_test[i] else 'red'\n",
        "    plt.xlabel(f'pred: {pred_labels[i]}  true: {y_test[i]}', color=color)\n",
        "plt.show()"
      ]
    },
    {
      "cell_type": "markdown",
      "id": "a433b3a4",
      "metadata": {
        "id": "a433b3a4"
      },
      "source": [
        "Salvar modelo no Drive (opcional):\n",
        "Se estiver no Colab, monte o Drive e salve o modelo. Em ambiente local, salva no arquivo `simple_cnn_mnist.h5`."
      ]
    },
    {
      "cell_type": "code",
      "execution_count": null,
      "id": "177bcf6e",
      "metadata": {
        "colab": {
          "base_uri": "https://localhost:8080/"
        },
        "id": "177bcf6e",
        "outputId": "3534f94f-d881-4a84-a0ef-1185435962ce"
      },
      "outputs": [
        {
          "name": "stderr",
          "output_type": "stream",
          "text": [
            "WARNING:absl:You are saving your model as an HDF5 file via `model.save()` or `keras.saving.save_model(model)`. This file format is considered legacy. We recommend using instead the native Keras format, e.g. `model.save('my_model.keras')` or `keras.saving.save_model(model, 'my_model.keras')`. \n"
          ]
        },
        {
          "name": "stdout",
          "output_type": "stream",
          "text": [
            "Modelo salvo localmente em simple_cnn_mnist.h5\n"
          ]
        }
      ],
      "source": [
        "# Salva o modelo e metadata na pasta `model/` (não usa Drive)\n",
        "# Salva o modelo e metadata na pasta `model/` (não usa Drive)\n",
        "try:\n",
        "    model\n",
        "except NameError:\n",
        "    raise RuntimeError(\"Variável 'model' não encontrada. Execute a célula de treino antes.\")\n",
        "\n",
        "import os\n",
        "import numpy as np\n",
        "\n",
        "os.makedirs(\"model\", exist_ok=True)\n",
        "model_path = os.path.join(\"model\", \"simple_cnn_mnist.keras\")\n",
        "model.save(model_path)\n",
        "print(\"Modelo salvo em:\", model_path)\n",
        "\n",
        "# Salva metadata usada pela inferência\n",
        "meta_path = os.path.join(\"model\", \"simple_cnn_metadata.npz\")\n",
        "np.savez_compressed(meta_path,\n",
        "                    image_size=(28, 28),\n",
        "                    input_shape=(28, 28, 1),\n",
        "                    class_names=np.array([str(i) for i in range(10)], dtype=object))\n",
        "print(\"Metadata salva em:\", meta_path)"
      ]
    },
    {
      "cell_type": "code",
      "execution_count": 17,
      "id": "4d615568",
      "metadata": {},
      "outputs": [
        {
          "name": "stderr",
          "output_type": "stream",
          "text": [
            "WARNING:absl:Compiled the loaded model, but the compiled metrics have yet to be built. `model.compile_metrics` will be empty until you train or evaluate the model.\n"
          ]
        },
        {
          "name": "stdout",
          "output_type": "stream",
          "text": [
            "Metadata não encontrada — usando defaults MNIST.\n",
            "Tentando carregar modelo: simple_cnn_mnist.h5\n",
            "Modelo carregado de: simple_cnn_mnist.h5\n",
            "IMAGE_SIZE: (28, 28) INPUT_SHAPE: (28, 28, 1) N classes: 10\n"
          ]
        }
      ],
      "source": [
        "\n",
        "import os\n",
        "import io\n",
        "import numpy as np\n",
        "from PIL import Image\n",
        "import matplotlib.pyplot as plt\n",
        "import tensorflow as tf\n",
        "\n",
        "# Carrega metadata (fallback para defaults MNIST)\n",
        "def load_metadata():\n",
        "    candidates = [\n",
        "        \"model/simple_cnn_metadata.npz\",\n",
        "        \"simple_cnn_metadata.npz\",\n",
        "        \"model/simple_cnn_metadata.npz\"\n",
        "    ]\n",
        "    for p in candidates:\n",
        "        if os.path.exists(p):\n",
        "            meta = np.load(p, allow_pickle=True)\n",
        "            image_size = tuple(meta.get(\"image_size\", (28, 28)))\n",
        "            input_shape = tuple(meta.get(\"input_shape\", (28, 28, 1)))\n",
        "            class_names = meta.get(\"class_names\", [str(i) for i in range(10)])\n",
        "            class_names = [c.decode() if isinstance(c, (bytes, bytearray)) else str(c) for c in class_names]\n",
        "            print(\"Metadata carregada de:\", p)\n",
        "            return image_size, input_shape, class_names\n",
        "    # defaults\n",
        "    print(\"Metadata não encontrada — usando defaults MNIST.\")\n",
        "    return (28, 28), (28, 28, 1), [str(i) for i in range(10)]\n",
        "\n",
        "IMAGE_SIZE, INPUT_SHAPE, CLASS_NAMES = load_metadata()\n",
        "\n",
        "# Localiza e carrega modelo (tenta .keras, .h5, ou SavedModel dir)\n",
        "def find_and_load_model():\n",
        "    candidates = [\n",
        "        \"model/simple_cnn_mnist.keras\",\n",
        "        \"model/simple_cnn_mnist.h5\",\n",
        "        \"simple_cnn_mnist.h5\",\n",
        "        \"best_model.h5\",\n",
        "        \"model/best_model.h5\",\n",
        "        \"model\"  # SavedModel dir\n",
        "    ]\n",
        "    for c in candidates:\n",
        "        if os.path.exists(c):\n",
        "            try:\n",
        "                print(\"Tentando carregar modelo:\", c)\n",
        "                model = tf.keras.models.load_model(c)\n",
        "                print(\"Modelo carregado de:\", c)\n",
        "                return model\n",
        "            except Exception as e:\n",
        "                print(\"Falha ao carregar\", c, \":\", e)\n",
        "    raise FileNotFoundError(\"Nenhum modelo encontrado. Coloque o arquivo .keras/.h5 em 'model/' ou no runtime.\")\n",
        "\n",
        "# Pré-processamento de imagem PIL -> batch ready\n",
        "def preprocess_pil_image(img_pil, image_size=IMAGE_SIZE):\n",
        "    if img_pil.mode != \"L\":\n",
        "        img = img_pil.convert(\"L\")\n",
        "    else:\n",
        "        img = img_pil\n",
        "    img = img.resize(image_size, Image.Resampling.BILINEAR)\n",
        "    arr = np.asarray(img).astype(\"float32\") / 255.0\n",
        "    if arr.ndim == 2:\n",
        "        arr = np.expand_dims(arr, -1)\n",
        "    arr = np.expand_dims(arr, 0)  # (1, H, W, C)\n",
        "    return arr\n",
        "\n",
        "# Prediz de bytes de imagem\n",
        "def predict_image_bytes(image_bytes, model):\n",
        "    img = Image.open(io.BytesIO(image_bytes))\n",
        "    x = preprocess_pil_image(img)\n",
        "    probs = model.predict(x)[0]\n",
        "    idx = int(np.argmax(probs))\n",
        "    return {\"label\": CLASS_NAMES[idx], \"index\": idx, \"score\": float(probs[idx]), \"probs\": probs}\n",
        "\n",
        "# Prediz de caminho local\n",
        "def predict_image_path(path, model, show=True):\n",
        "    with open(path, \"rb\") as f:\n",
        "        res = predict_image_bytes(f.read(), model)\n",
        "    if show:\n",
        "        img = Image.open(path).convert(\"L\").resize(IMAGE_SIZE, Image.Resampling.BILINEAR)\n",
        "        plt.imshow(np.asarray(img), cmap=\"gray\")\n",
        "        plt.title(f\"{os.path.basename(path)} → {res['label']} ({res['score']:.3f})\")\n",
        "        plt.axis(\"off\")\n",
        "        plt.show()\n",
        "    return res\n",
        "\n",
        "# Prediz de URL (usa requests)\n",
        "def predict_image_url(url, model, show=True):\n",
        "    try:\n",
        "        import requests\n",
        "    except Exception:\n",
        "        raise RuntimeError(\"requests não instalado. Execute: pip install requests\")\n",
        "    r = requests.get(url, timeout=10)\n",
        "    r.raise_for_status()\n",
        "    res = predict_image_bytes(r.content, model)\n",
        "    if show:\n",
        "        img = Image.open(io.BytesIO(r.content)).convert(\"L\").resize(IMAGE_SIZE, Image.Resampling.BILINEAR)\n",
        "        plt.imshow(np.asarray(img), cmap=\"gray\")\n",
        "        plt.title(f\"URL → {res['label']} ({res['score']:.3f})\")\n",
        "        plt.axis(\"off\")\n",
        "        plt.show()\n",
        "    return res\n",
        "\n",
        "# Interface interativa: upload (Colab) ou usar arquivo local/quatro.jpg\n",
        "def infer_interactive(model):\n",
        "    if IN_COLAB:\n",
        "        print(\"Selecione uma imagem para upload (Colab).\")\n",
        "        uploaded = files.upload()\n",
        "        for fname, content in uploaded.items():\n",
        "            r = predict_image_bytes(content, model)\n",
        "            print(fname, \"→\", r[\"label\"], f\"score={r['score']:.4f}\")\n",
        "    else:\n",
        "        sample = \"quatro.jpg\"\n",
        "        if os.path.exists(sample):\n",
        "            r = predict_image_path(sample, model, show=True)\n",
        "            print(r)\n",
        "        else:\n",
        "            print(\"Nenhuma imagem local encontrada. Use predict_image_path(path, model) ou predict_image_url(url, model).\")\n",
        "\n",
        "# Uso: carregar modelo e chamar as funções acima\n",
        "if __name__ == \"__main__\":\n",
        "    try:\n",
        "        model = find_and_load_model()\n",
        "    except FileNotFoundError as e:\n",
        "        print(e)\n",
        "        model = None\n",
        "    print(\"IMAGE_SIZE:\", IMAGE_SIZE, \"INPUT_SHAPE:\", INPUT_SHAPE, \"N classes:\", len(CLASS_NAMES))\n",
        "    # Exemplos de uso (descomente para testar):\n",
        "    # infer_interactive(model)\n",
        "    # print(predict_image_path(\"quatro.jpg\", model))\n",
        "    # print(predict_image_url(\"https://example.com/some_digit.png\", model))\n",
        "    # Para batch CSV com coluna 'filename', carregue pandas e itere os caminhos."
      ]
    },
    {
      "cell_type": "code",
      "execution_count": null,
      "id": "77f2bc9d",
      "metadata": {},
      "outputs": [],
      "source": []
    }
  ],
  "metadata": {
    "accelerator": "GPU",
    "colab": {
      "gpuType": "T4",
      "include_colab_link": true,
      "provenance": []
    },
    "kernelspec": {
      "display_name": ".venv (3.12.10)",
      "language": "python",
      "name": "python3"
    },
    "language_info": {
      "codemirror_mode": {
        "name": "ipython",
        "version": 3
      },
      "file_extension": ".py",
      "mimetype": "text/x-python",
      "name": "python",
      "nbconvert_exporter": "python",
      "pygments_lexer": "ipython3",
      "version": "3.12.10"
    }
  },
  "nbformat": 4,
  "nbformat_minor": 5
}
